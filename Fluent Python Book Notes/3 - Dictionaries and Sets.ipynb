{
 "cells": [
  {
   "cell_type": "markdown",
   "metadata": {},
   "source": [
    "# Chapter 3 - Dictionaries"
   ]
  },
  {
   "cell_type": "code",
   "execution_count": null,
   "metadata": {},
   "outputs": [],
   "source": [
    "\"\"\"\n",
    "An object is hashable if it has a hash value which never changes during its lifetime (it\n",
    "needs a __hash__() method), and can be compared to other objects (it needs an\n",
    "__eq__() method). Hashable objects which compare equal must have the same hash\n",
    "value. […]\n",
    "\"\"\""
   ]
  },
  {
   "cell_type": "code",
   "execution_count": null,
   "metadata": {},
   "outputs": [],
   "source": [
    "a = dict(one=1, two=2, three=3)\n",
    "b = {'one': 1, 'two': 2, 'three': 3}\n",
    "c = dict(zip(['one', 'two', 'three'], [1, 2, 3]))\n",
    "d = dict([('two', 2), ('one', 1), ('three', 3)])\n",
    "e = dict({'three': 3, 'one': 1, 'two': 2})\n",
    "a == b == c == d == e # = True"
   ]
  },
  {
   "cell_type": "markdown",
   "metadata": {},
   "source": [
    "### Dict Comprehensions"
   ]
  },
  {
   "cell_type": "code",
   "execution_count": null,
   "metadata": {},
   "outputs": [],
   "source": [
    "# A dictcomp builds a dict instance by producing key:value pair from any iterable."
   ]
  },
  {
   "cell_type": "code",
   "execution_count": 4,
   "metadata": {},
   "outputs": [
    {
     "data": {
      "text/plain": [
       "{'China': 86, 'India': 91, 'United States': 1, 'Indonesia': 62}"
      ]
     },
     "execution_count": 4,
     "metadata": {},
     "output_type": "execute_result"
    }
   ],
   "source": [
    "DIAL_CODES = [(86, 'China'),(91, 'India'),(1, 'United States'),(62, 'Indonesia')]\n",
    "\n",
    "country_code = {country: code for code, country in DIAL_CODES}\n",
    "country_code"
   ]
  },
  {
   "cell_type": "code",
   "execution_count": 5,
   "metadata": {},
   "outputs": [
    {
     "data": {
      "text/plain": [
       "{1: 'UNITED STATES', 62: 'INDONESIA'}"
      ]
     },
     "execution_count": 5,
     "metadata": {},
     "output_type": "execute_result"
    }
   ],
   "source": [
    "DIAL_CODES = [(86, 'China'),(91, 'India'),(1, 'United States'),(62, 'Indonesia')]\n",
    "\n",
    "{code: country.upper() for country, code in country_code.items() if code < 66}"
   ]
  },
  {
   "cell_type": "markdown",
   "metadata": {},
   "source": [
    "### Missing Keys"
   ]
  },
  {
   "cell_type": "code",
   "execution_count": null,
   "metadata": {},
   "outputs": [],
   "source": [
    "my_dict.setdefault(key, []).append(new_value)\n",
    "\n",
    "\"\"\"is equal to:\"\"\"\n",
    "\n",
    "if key not in my_dict:\n",
    "    my_dict[key] = []\n",
    "my_dict[key].append(new_value)"
   ]
  },
  {
   "cell_type": "code",
   "execution_count": 16,
   "metadata": {},
   "outputs": [
    {
     "data": {
      "text/plain": [
       "0"
      ]
     },
     "execution_count": 16,
     "metadata": {},
     "output_type": "execute_result"
    }
   ],
   "source": [
    "\"\"\"\n",
    "when instantiating a defaultdict, you provide a callable that is\n",
    "used to produce a default value whenever __getitem__ is passed a nonexistent key\n",
    "argument.\n",
    "\"\"\"\n",
    "import collections\n",
    "count_letters = collections.defaultdict(int)\n",
    "count_letters['a'] # = 0\n",
    "\n",
    "# WARNING: count_letters.get('a') # = None"
   ]
  },
  {
   "cell_type": "code",
   "execution_count": null,
   "metadata": {},
   "outputs": [],
   "source": [
    "\"\"\"A clever hook in the mapping API is the __missing__ method, which lets you customize\n",
    "what happens when a key is not found.\"\"\""
   ]
  },
  {
   "cell_type": "markdown",
   "metadata": {},
   "source": [
    "### collections.OrderedDict"
   ]
  },
  {
   "cell_type": "code",
   "execution_count": null,
   "metadata": {},
   "outputs": [],
   "source": [
    "\"\"\"\n",
    "collections.OrderedDict\n",
    "Maintains keys in insertion order, allowing iteration over items in a predictable\n",
    "order. The popitem method of an OrderedDict pops the first item by default, but\n",
    "if called as my_odict.popitem(last=True), it pops the last item added.\n",
    "\"\"\""
   ]
  },
  {
   "cell_type": "markdown",
   "metadata": {},
   "source": [
    "### collections.Counter"
   ]
  },
  {
   "cell_type": "code",
   "execution_count": null,
   "metadata": {},
   "outputs": [],
   "source": [
    "\"\"\"\n",
    "A mapping that holds an integer count for each key. Updating an existing key adds\n",
    "to its count. This can be used to count instances of hashable objects (the keys) or\n",
    "as a multiset—a set that can hold several occurrences of each element. Counter\n",
    "implements the + and - operators to combine tallies, and other useful methods such\n",
    "as most_common([n]), which returns an ordered list of tuples with the n most common\n",
    "items and their counts;\n",
    "\"\"\""
   ]
  },
  {
   "cell_type": "code",
   "execution_count": null,
   "metadata": {},
   "outputs": [],
   "source": [
    "ct = collections.Counter('abracadabra')\n",
    "ct # = Counter({'a': 5, 'b': 2, 'r': 2, 'c': 1, 'd': 1})\n",
    "\n",
    "ct.update('aaaaazzz') # = Counter({'a': 10, 'z': 3, 'b': 2, 'r': 2, 'c': 1, 'd': 1})\n",
    "\n",
    "ct.most_common(2) # = [('a', 10), ('z', 3)]"
   ]
  },
  {
   "cell_type": "markdown",
   "metadata": {},
   "source": [
    "### Subclassing UserDict"
   ]
  },
  {
   "cell_type": "code",
   "execution_count": null,
   "metadata": {},
   "outputs": [],
   "source": [
    "# UserDict is designed to be subclassed."
   ]
  },
  {
   "cell_type": "code",
   "execution_count": 19,
   "metadata": {},
   "outputs": [],
   "source": [
    "# trKeyDict always converts non-string keys to str—on insertion, update and lookup\n",
    "import collections\n",
    "\n",
    "class StrKeyDict(collections.UserDict):\n",
    "    def __missing__(self, key):\n",
    "        if isinstance(key, str):\n",
    "            raise KeyError(key)\n",
    "        return self[str(key)]\n",
    "    \n",
    "    def __contains__(self, key):\n",
    "        return str(key) in self.data\n",
    "    \n",
    "    def __setitem__(self, key, item):\n",
    "        self.data[str(key)] = item"
   ]
  },
  {
   "cell_type": "markdown",
   "metadata": {},
   "source": [
    "# Sets"
   ]
  },
  {
   "cell_type": "code",
   "execution_count": 33,
   "metadata": {},
   "outputs": [
    {
     "data": {
      "text/plain": [
       "{1, 4}"
      ]
     },
     "execution_count": 33,
     "metadata": {},
     "output_type": "execute_result"
    }
   ],
   "source": [
    "\"\"\"\n",
    "Set elements must be hashable. The set type is not hashable, but frozenset is, so you\n",
    "can have frozenset elements inside a set.\n",
    "\n",
    "The set types implement the essential set operations as infix operators, so, given two sets a and b:\n",
    "a | b returns their union\n",
    "a & b computes the intersection \n",
    "a - b the difference\n",
    "\"\"\"\n",
    "a = set([1,2,3])\n",
    "b = {2,3,4} # this is faster\n",
    "\n",
    "len(a & b) # = 2\n",
    "len(a | b) # = 4\n",
    "len(a - b) # = 1\n",
    "\n",
    "type(a & b) # set\n",
    "\n",
    "a ^ b # {1, 4}"
   ]
  },
  {
   "cell_type": "code",
   "execution_count": 37,
   "metadata": {},
   "outputs": [
    {
     "data": {
      "text/plain": [
       "True"
      ]
     },
     "execution_count": 37,
     "metadata": {},
     "output_type": "execute_result"
    }
   ],
   "source": [
    "\"\"\"Comparison operators\"\"\"\n",
    "c = {1,2,3,4,5}\n",
    "d = {2,3}\n",
    "e = {2,3}\n",
    "\n",
    "c > d # = True, because c is a proper superset of d\n",
    "d < c # = True, because d is a proper subset of c\n",
    "\n",
    "e < d  # = False, because e is not a proper subset of d\n",
    "e <= d # = True"
   ]
  },
  {
   "cell_type": "code",
   "execution_count": 28,
   "metadata": {},
   "outputs": [
    {
     "data": {
      "text/plain": [
       "frozenset({0, 1, 2, 3, 4, 5, 6, 7, 8, 9})"
      ]
     },
     "execution_count": 28,
     "metadata": {},
     "output_type": "execute_result"
    }
   ],
   "source": [
    "frozenset(range(10))"
   ]
  },
  {
   "cell_type": "markdown",
   "metadata": {},
   "source": [
    "### set Comprehensions"
   ]
  },
  {
   "cell_type": "markdown",
   "metadata": {},
   "source": [
    "### Hashing"
   ]
  },
  {
   "cell_type": "code",
   "execution_count": null,
   "metadata": {},
   "outputs": [],
   "source": [
    "\"\"\"\n",
    "An object is hashable if all of these requirements are met:\n",
    "1. It supports the hash() function via a hash() method that always returns the same\n",
    "value over the lifetime of the object.\n",
    "2. It supports equality via an eq() method.\n",
    "3. If a == b is True then hash(a) == hash(b) must also be True.\"\"\""
   ]
  },
  {
   "cell_type": "code",
   "execution_count": null,
   "metadata": {},
   "outputs": [],
   "source": [
    "\"\"\"The hash() built-in function works directly with built-in types and falls back to calling\n",
    "__hash__ for user-defined types. If two objects compare equal, their hash values must\n",
    "also be equal, otherwise the hash table algorithm does not work. For example, because\n",
    "1 == 1.0 is true, hash(1) == hash(1.0) must also be true, even though the internal\n",
    "representation of an int and a float are very different.\"\"\""
   ]
  },
  {
   "cell_type": "code",
   "execution_count": 41,
   "metadata": {},
   "outputs": [
    {
     "data": {
      "text/plain": [
       "''"
      ]
     },
     "execution_count": 41,
     "metadata": {},
     "output_type": "execute_result"
    }
   ],
   "source": [
    "\"\"\"\n",
    "To fetch the value at my_dict[search_key], Python calls hash(search_key) to obtain\n",
    "the hash value of search_key and uses the least significant bits of that number as an\n",
    "offset to look up a bucket in the hash table (the number of bits used depends on the\n",
    "current size of the table). If the found bucket is empty, KeyError is raised. Otherwise,\n",
    "the found bucket has an item—a found_key:found_value pair—and then Python\n",
    "checks whether search_key == found_key. If they match, that was the item sought:\n",
    "found_value is returned.\"\"\"\n"
   ]
  },
  {
   "cell_type": "code",
   "execution_count": null,
   "metadata": {},
   "outputs": [],
   "source": [
    "# dicts have significant memory overhead\n",
    "# if you are handling a large quantity of records, it\n",
    "# makes sense to store them in a list of tuples or named tuples instead of using a list of\n",
    "# dictionaries in JSON style, with one dict per record. Replacing dicts with tuples reduces\n",
    "# the memory usage in two ways: by removing the overhead of one hash table per record\n",
    "# and by not storing the field names again with each record.\n",
    "\n",
    "# Key ordering depends on insertion order\n",
    "\n",
    "# Adding items to a dict may change the order of existing keys, \n",
    "#This is why modifying the contents of a dict while iterating through it is a bad idea"
   ]
  }
 ],
 "metadata": {
  "kernelspec": {
   "display_name": "Python 3",
   "language": "python",
   "name": "python3"
  },
  "language_info": {
   "codemirror_mode": {
    "name": "ipython",
    "version": 3
   },
   "file_extension": ".py",
   "mimetype": "text/x-python",
   "name": "python",
   "nbconvert_exporter": "python",
   "pygments_lexer": "ipython3",
   "version": "3.7.6"
  }
 },
 "nbformat": 4,
 "nbformat_minor": 4
}
