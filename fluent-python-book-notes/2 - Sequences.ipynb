{
 "cells": [
  {
   "cell_type": "markdown",
   "metadata": {},
   "source": [
    "# Chapter 1"
   ]
  },
  {
   "cell_type": "code",
   "execution_count": 1,
   "metadata": {},
   "outputs": [],
   "source": [
    "import collections\n",
    "\n",
    "Card = collections.namedtuple('Card', ['rank', 'suit'])\n",
    "\n",
    "class FrenchDeck:\n",
    "    ranks = [str(n) for n in range(2, 11)] + list('JQKA')\n",
    "    suits = 'spades diamonds clubs hearts'.split()\n",
    "    \n",
    "    def __init__(self):\n",
    "        self._cards = [Card(rank, suit) for suit in self.suits \n",
    "                                        for rank in self.ranks]\n",
    "        \n",
    "    def __len__(self):\n",
    "        return len(self._cards)\n",
    "    \n",
    "    def __getitem__(self, position):\n",
    "        return self._cards[position]"
   ]
  },
  {
   "cell_type": "code",
   "execution_count": 3,
   "metadata": {},
   "outputs": [],
   "source": [
    "from math import hypot\n",
    "\n",
    "class Vector:\n",
    "    def __init__(self, x=0, y=0):\n",
    "        self.x = x\n",
    "        self.y = y\n",
    "    \n",
    "    def __repr__(self):\n",
    "        return 'Vector(%r, %r)' % (self.x, self.y)\n",
    "    \n",
    "    def __abs__(self):\n",
    "        return hypot(self.x, self.y)\n",
    "    \n",
    "    def __bool__(self):\n",
    "        return bool(abs(self))\n",
    "    \n",
    "    def __add__(self, other):\n",
    "        x = self.x + other.x\n",
    "        y = self.y + other.y\n",
    "        return Vector(x, y)\n",
    "    \n",
    "    def __mul__(self, scalar):\n",
    "        return Vector(self.x * scalar, self.y * scalar)"
   ]
  },
  {
   "cell_type": "markdown",
   "metadata": {},
   "source": [
    "By implementing special methods, your objects can behave like the built-in types, enabling\n",
    "the expressive coding style the community considers Pythonic. See example below:"
   ]
  },
  {
   "cell_type": "code",
   "execution_count": 17,
   "metadata": {},
   "outputs": [
    {
     "data": {
      "text/plain": [
       "5.0"
      ]
     },
     "execution_count": 17,
     "metadata": {},
     "output_type": "execute_result"
    }
   ],
   "source": [
    "v1 = Vector(1,2)\n",
    "v2 = Vector(3,4)\n",
    "\n",
    "v3 = v1 * 2\n",
    "repr(v3) # 'Vector(2, 4)'\n",
    "\n",
    "v4 = v1 + v2\n",
    "repr(v4) # 'Vector(4, 6)'\n",
    "\n",
    "abs(v2) #=5.0"
   ]
  },
  {
   "cell_type": "markdown",
   "metadata": {},
   "source": [
    "# Chapter 2"
   ]
  },
  {
   "cell_type": "raw",
   "metadata": {},
   "source": [
    "Container sequences (list, tuple, deque ...) hold references to the objects they contain, which may be of any\n",
    "type, while flat sequences (str, bytes, bytearray ...) physically store the value of each item within its own memory\n",
    "space, and not as distinct objects.\n",
    "\n",
    "Mutable sequences: list, bytearray,deque, memoryview, array.array\n",
    "Immutable sequences: tuple, str, bytes"
   ]
  },
  {
   "cell_type": "markdown",
   "metadata": {},
   "source": [
    "### List Comprehensions\n"
   ]
  },
  {
   "cell_type": "code",
   "execution_count": 20,
   "metadata": {},
   "outputs": [
    {
     "data": {
      "text/plain": [
       "[('black', 'S'),\n",
       " ('black', 'M'),\n",
       " ('black', 'L'),\n",
       " ('white', 'S'),\n",
       " ('white', 'M'),\n",
       " ('white', 'L')]"
      ]
     },
     "execution_count": 20,
     "metadata": {},
     "output_type": "execute_result"
    }
   ],
   "source": [
    "colors = ['black', 'white']\n",
    "sizes = ['S', 'M', 'L']\n",
    "tshirts = [(color, size) for color in colors for size in sizes]\n",
    "tshirts"
   ]
  },
  {
   "cell_type": "markdown",
   "metadata": {},
   "source": [
    "### Generator Expression"
   ]
  },
  {
   "cell_type": "markdown",
   "metadata": {},
   "source": [
    "The generator expression yields items one by one. A list is not created."
   ]
  },
  {
   "cell_type": "code",
   "execution_count": 23,
   "metadata": {},
   "outputs": [
    {
     "data": {
      "text/plain": [
       "<generator object <genexpr> at 0x00000207041DA448>"
      ]
     },
     "execution_count": 23,
     "metadata": {},
     "output_type": "execute_result"
    }
   ],
   "source": [
    "symbols = '$¢£¥€¤'\n",
    "(ord(symbol) for symbol in symbols)"
   ]
  },
  {
   "cell_type": "code",
   "execution_count": 24,
   "metadata": {},
   "outputs": [
    {
     "name": "stdout",
     "output_type": "stream",
     "text": [
      "black S\n",
      "black M\n",
      "black L\n",
      "white S\n",
      "white M\n",
      "white L\n"
     ]
    }
   ],
   "source": [
    "colors = ['black', 'white']\n",
    "sizes = ['S', 'M', 'L']\n",
    "\n",
    "# the generator expression feeds the for loop producing one item at a time\n",
    "for tshirt in ('%s %s' % (c, s) for c in colors for s in sizes): \n",
    "    print(tshirt)"
   ]
  },
  {
   "cell_type": "markdown",
   "metadata": {},
   "source": [
    "### Tuple"
   ]
  },
  {
   "cell_type": "markdown",
   "metadata": {},
   "source": [
    "Tuples hold records: each item in the tuple holds the data for one field and the position\n",
    "of the item gives its meaning."
   ]
  },
  {
   "cell_type": "code",
   "execution_count": 25,
   "metadata": {},
   "outputs": [],
   "source": [
    "coordinates = (33.9425, -118.408056)\n",
    "city, year, pop, chg, area = ('Tokyo', 2003, 32450, 0.66, 8014)"
   ]
  },
  {
   "cell_type": "markdown",
   "metadata": {},
   "source": [
    "Another example of tuple unpacking is prefixing an argument with a star when calling\n",
    "a function:"
   ]
  },
  {
   "cell_type": "code",
   "execution_count": 26,
   "metadata": {},
   "outputs": [],
   "source": [
    "t = (20, 8)\n",
    "divmod(*t) #(2, 4)\n",
    "quotient, remainder = divmod(*t)"
   ]
  },
  {
   "cell_type": "markdown",
   "metadata": {},
   "source": [
    "Sometimes when we only care about certain parts of a tuple when unpacking, a dummy\n",
    "variable like _ is used as placeholder"
   ]
  },
  {
   "cell_type": "code",
   "execution_count": 27,
   "metadata": {},
   "outputs": [
    {
     "data": {
      "text/plain": [
       "'idrsa.pub'"
      ]
     },
     "execution_count": 27,
     "metadata": {},
     "output_type": "execute_result"
    }
   ],
   "source": [
    "import os\n",
    "_, filename = os.path.split('/home/luciano/.ssh/idrsa.pub')\n",
    "filename  #'idrsa.pub'"
   ]
  },
  {
   "cell_type": "markdown",
   "metadata": {},
   "source": [
    "You can use * to grab excess items:"
   ]
  },
  {
   "cell_type": "code",
   "execution_count": 28,
   "metadata": {},
   "outputs": [
    {
     "data": {
      "text/plain": [
       "(0, 1, [2, 3, 4])"
      ]
     },
     "execution_count": 28,
     "metadata": {},
     "output_type": "execute_result"
    }
   ],
   "source": [
    "a, b, *rest = range(5)\n",
    "a, b, rest # 0, 1, [2, 3, 4]"
   ]
  },
  {
   "cell_type": "markdown",
   "metadata": {},
   "source": [
    "### NamedTuple"
   ]
  },
  {
   "cell_type": "code",
   "execution_count": null,
   "metadata": {},
   "outputs": [],
   "source": [
    "The collections.namedtuple function is a factory that produces subclasses of tuple\n",
    "enhanced with field names and a class name—which helps debugging."
   ]
  },
  {
   "cell_type": "code",
   "execution_count": 36,
   "metadata": {},
   "outputs": [
    {
     "data": {
      "text/plain": [
       "Card(rank=7, suit='swords')"
      ]
     },
     "execution_count": 36,
     "metadata": {},
     "output_type": "execute_result"
    }
   ],
   "source": [
    "# Card = collections.namedtuple('Card', 'rank suit'])\n",
    "Card = collections.namedtuple('Card', ['rank', 'suit'])\n",
    "\n",
    "Card._fields # = ('rank', 'suit')\n",
    "\n",
    "c = Card(rank=2, suit='heart')\n",
    "c._asdict() # = OrderedDict([('rank', 2), ('suit', 'heart')])\n",
    "\n",
    "data = (7, 'swords')\n",
    "d = Card._make(data)\n",
    "d # = Card(rank=7, suit='swords')"
   ]
  },
  {
   "cell_type": "markdown",
   "metadata": {},
   "source": [
    "### Slices"
   ]
  },
  {
   "cell_type": "code",
   "execution_count": null,
   "metadata": {},
   "outputs": [],
   "source": [
    "s = 'bicycle'\n",
    "s[::3] #'bye'\n",
    "\n",
    "s[::-1] #'elcycib'\n",
    "\n",
    "s[::-2] #'eccb'"
   ]
  },
  {
   "cell_type": "markdown",
   "metadata": {},
   "source": [
    "Assigning to Slices"
   ]
  },
  {
   "cell_type": "code",
   "execution_count": null,
   "metadata": {},
   "outputs": [],
   "source": [
    "l = list(range(10)) # = [0, 1, 2, 3, 4, 5, 6, 7, 8, 9]\n",
    "\n",
    "l[2:5] = [20, 30] # = [0, 1, 20, 30, 5, 6, 7, 8, 9]\n",
    "\n",
    "del l[5:7] # = [0, 1, 20, 30, 5, 8, 9]\n",
    "\n",
    "l[3::2] = [11, 22] # = [0, 1, 20, 11, 5, 22, 9]\n",
    "\n",
    "l[2:5] = 100\n",
    "Traceback (most recent call last):\n",
    "File \"<stdin>\", line 1, in <module>\n",
    "TypeError: can only assign an iterable\n",
    "    \n",
    "l[2:5] = [100] # = [0, 1, 100, 22, 9]"
   ]
  },
  {
   "cell_type": "markdown",
   "metadata": {},
   "source": [
    "### Sorting: list.sort() and sorted"
   ]
  },
  {
   "cell_type": "markdown",
   "metadata": {},
   "source": [
    "Functions or methods that change an object in place (list.sort()) should return None to make \n",
    "it clear to the caller that the object itself was changed, and no new object was created."
   ]
  },
  {
   "cell_type": "code",
   "execution_count": null,
   "metadata": {},
   "outputs": [],
   "source": [
    "fruits = ['grape', 'raspberry', 'apple', 'banana']\n",
    "sorted(fruits) # = ['apple', 'banana', 'grape', 'raspberry']\n",
    "fruits # = ['grape', 'raspberry', 'apple', 'banana']\n",
    "\n",
    "sorted(fruits, key=len) # = ['grape', 'apple', 'banana', 'raspberry']\n",
    "sorted(fruits, key=len, reverse=True) # = ['raspberry', 'banana', 'grape', 'apple']\n",
    "\n",
    "fruits # = ['grape', 'raspberry', 'apple', 'banana']\n",
    "fruits.sort() # = None\n",
    "fruits # ['apple', 'banana', 'grape', 'raspberry']"
   ]
  },
  {
   "cell_type": "markdown",
   "metadata": {},
   "source": [
    "### Bisect"
   ]
  },
  {
   "cell_type": "code",
   "execution_count": null,
   "metadata": {},
   "outputs": [],
   "source": [
    "bisect(haystack, needle) does a binary search for needle in haystack—which must\n",
    "be a sorted sequence—to locate the position where needle can be inserted while maintaining\n",
    "haystack in ascending order. In other words, all items appearing up to that\n",
    "position are less than or equal to needle.\n",
    "\n",
    "You could use the result of bisect(haystack,\n",
    "needle) as the index argument to haystack.insert(index, needle)—however, using\n",
    "insort does both steps, and is faster."
   ]
  },
  {
   "cell_type": "code",
   "execution_count": 44,
   "metadata": {},
   "outputs": [
    {
     "name": "stdout",
     "output_type": "stream",
     "text": [
      "DEMO: bisect_right\n",
      "haystack  1  4  5  6  8 12 15 20 21 23 23 26 29 30\n",
      "31 @ 14   |  |  |  |  |  |  |  |  |  |  |  |  |  |31\n",
      "30 @ 14   |  |  |  |  |  |  |  |  |  |  |  |  |  |30\n",
      "29 @ 13   |  |  |  |  |  |  |  |  |  |  |  |  |29\n",
      "23 @ 11   |  |  |  |  |  |  |  |  |  |  |23\n",
      "22 @  9   |  |  |  |  |  |  |  |  |22\n",
      "10 @  5   |  |  |  |  |10\n",
      " 8 @  5   |  |  |  |  |8 \n",
      " 5 @  3   |  |  |5 \n",
      " 2 @  1   |2 \n",
      " 1 @  1   |1 \n",
      " 0 @  0 0 \n"
     ]
    }
   ],
   "source": [
    "import bisect\n",
    "import sys\n",
    "\n",
    "HAYSTACK = [1, 4, 5, 6, 8, 12, 15, 20, 21, 23, 23, 26, 29, 30]\n",
    "NEEDLES =  [0, 1, 2, 5, 8, 10, 22, 23, 29, 30, 31]\n",
    "ROW_FMT = '{0:2d} @ {1:2d} {2}{0:<2d}'\n",
    "\n",
    "def demo(bisect_fn):\n",
    "    for needle in reversed(NEEDLES):\n",
    "        position = bisect_fn(HAYSTACK, needle)\n",
    "        offset = position * '  |'\n",
    "        print(ROW_FMT.format(needle, position, offset))\n",
    "    \n",
    "if __name__ == '__main__':\n",
    "    if sys.argv[-1] == 'left':\n",
    "        bisect_fn = bisect.bisect_left\n",
    "    else:\n",
    "        bisect_fn = bisect.bisect\n",
    "        print('DEMO:', bisect_fn.__name__)\n",
    "        print('haystack', ' '.join('%2d' % n for n in HAYSTACK))\n",
    "        demo(bisect_fn)"
   ]
  },
  {
   "cell_type": "code",
   "execution_count": null,
   "metadata": {},
   "outputs": [],
   "source": [
    "\"\"\"Sorting is expensive, so once you have a sorted sequence, it’s good to keep it that way.\n",
    "That is why bisect.insort was created.\"\"\""
   ]
  },
  {
   "cell_type": "code",
   "execution_count": 45,
   "metadata": {},
   "outputs": [
    {
     "name": "stdout",
     "output_type": "stream",
     "text": [
      "10 -> [10]\n",
      " 0 -> [0, 10]\n",
      " 6 -> [0, 6, 10]\n",
      " 8 -> [0, 6, 8, 10]\n",
      " 7 -> [0, 6, 7, 8, 10]\n",
      " 2 -> [0, 2, 6, 7, 8, 10]\n",
      "10 -> [0, 2, 6, 7, 8, 10, 10]\n"
     ]
    }
   ],
   "source": [
    "# insort(seq, item) inserts item into seq so as to keep seq in ascending order.\n",
    "import bisect\n",
    "import random\n",
    "\n",
    "SIZE = 7\n",
    "random.seed(1729)\n",
    "\n",
    "my_list = []\n",
    "for i in range(SIZE):\n",
    "    new_item = random.randrange(SIZE*2)\n",
    "    bisect.insort(my_list, new_item)\n",
    "    print('%2d ->' % new_item, my_list)"
   ]
  },
  {
   "cell_type": "markdown",
   "metadata": {},
   "source": [
    "### Arrays"
   ]
  },
  {
   "cell_type": "code",
   "execution_count": null,
   "metadata": {},
   "outputs": [],
   "source": [
    "\"\"\"A Python array is as lean as a C array. When creating an array, you provide a typecode,\n",
    "a letter to determine the underlying C type used to store each item in the array. For\n",
    "example, b is the typecode for signed char. If you create an array('b'), then each item\n",
    "will be stored in a single byte and interpreted as an integer from –128 to 127. For large\n",
    "sequences of numbers, this saves a lot of memory. And Python will not let you put any\n",
    "number that does not match the type for the array. \"\"\""
   ]
  },
  {
   "cell_type": "code",
   "execution_count": 46,
   "metadata": {},
   "outputs": [
    {
     "data": {
      "text/plain": [
       "True"
      ]
     },
     "execution_count": 46,
     "metadata": {},
     "output_type": "execute_result"
    }
   ],
   "source": [
    "from array import array\n",
    "from random import random\n",
    "\n",
    "floats = array('d', (random() for i in range(10**7))) # d is for double-precision\n",
    "floats[-1] # = 0.07802343889111107\n",
    "\n",
    "fp = open('floats.bin', 'wb')\n",
    "floats.tofile(fp)\n",
    "fp.close()\n",
    "floats2 = array('d')\n",
    "\n",
    "fp = open('floats.bin', 'rb')\n",
    "floats2.fromfile(fp, 10**7)\n",
    "fp.close()\n",
    "floats2[-1] # = 0.07802343889111107\n",
    "\n",
    "floats2 == floats # = True"
   ]
  },
  {
   "cell_type": "markdown",
   "metadata": {},
   "source": [
    "### Memory Views"
   ]
  },
  {
   "cell_type": "markdown",
   "metadata": {},
   "source": [
    "### Deques"
   ]
  },
  {
   "cell_type": "code",
   "execution_count": null,
   "metadata": {},
   "outputs": [],
   "source": [
    "\"\"\"The class collections.deque is a thread-safe double-ended queue designed for fast\n",
    "inserting and removing from both ends. It is also the way to go if you need to keep a list\n",
    "of “last seen items” or something like that, because a deque can be bounded—i.e., created\n",
    "with a maximum length—and then, when it is full, it discards items from the opposite\n",
    "end when you append new ones.\"\"\"\n",
    "# Deque is thread safe!"
   ]
  },
  {
   "cell_type": "code",
   "execution_count": null,
   "metadata": {},
   "outputs": [],
   "source": [
    "from collections import deque\n",
    "dq = deque(range(10), maxlen=10)\n",
    "dq # = deque([0, 1, 2, 3, 4, 5, 6, 7, 8, 9], maxlen=10)\n",
    "\n",
    "dq.rotate(3)\n",
    "dq # = deque([7, 8, 9, 0, 1, 2, 3, 4, 5, 6], maxlen=10)\n",
    "\n",
    "dq.rotate(-4)\n",
    "dq # = deque([1, 2, 3, 4, 5, 6, 7, 8, 9, 0], maxlen=10)\n",
    "\n",
    "dq.appendleft(-1)\n",
    "dq # = deque([-1, 1, 2, 3, 4, 5, 6, 7, 8, 9], maxlen=10)\n",
    "\n",
    "dq.extend([11, 22, 33])\n",
    "dq # = deque([3, 4, 5, 6, 7, 8, 9, 11, 22, 33], maxlen=10)\n",
    "\n",
    "dq.extendleft([10, 20, 30, 40])\n",
    "dq # = deque([40, 30, 20, 10, 3, 4, 5, 6, 7, 8], maxlen=10)"
   ]
  },
  {
   "cell_type": "code",
   "execution_count": null,
   "metadata": {},
   "outputs": [],
   "source": []
  },
  {
   "cell_type": "code",
   "execution_count": null,
   "metadata": {},
   "outputs": [],
   "source": [
    "\"\"\"\n",
    "Key Is Brilliant\n",
    "\n",
    "The key optional argument of list.sort, sorted, max, and min is a great idea. Other\n",
    "languages force you to provide a two-argument comparison function like the deprecated\n",
    "cmp(a, b) function in Python 2. Using key is both simpler and more efficient. \n",
    "\n",
    "It’s simpler because you just define a one-argument function that retrieves or calculates whatever\n",
    "criterion you want to use to sort your objects; this is easier than writing a two-argument\n",
    "function to return –1, 0, 1. It is also more efficient because the key function is invoked\n",
    "only once per item, while the two-argument comparison is called every time the sorting\n",
    "algorithm needs to compare two items. \n",
    "\n",
    "Of course, Python also has to compare the keys while sorting, but that comparison is done in \n",
    "optimized C code and not in a Python function that you wrote.\n",
    "\n",
    "By the way, using key actually lets us sort a mixed bag of numbers and number-like\n",
    "strings. You just need to decide whether you want to treat all items as integers or strings: \n",
    "\"\"\"\n",
    "\n",
    "l = [28, 14, '28', 5, '9', '1', 0, 6, '23', 19]\n",
    "sorted(l, key=int) # = [0, '1', 5, 6, '9', 14, 19, '23', 28, '28']\n",
    "sorted(l, key=str) # = [0, '1', 14, 19, '23', 28, '28', 5, 6, '9']"
   ]
  }
 ],
 "metadata": {
  "kernelspec": {
   "display_name": "Python 3",
   "language": "python",
   "name": "python3"
  },
  "language_info": {
   "codemirror_mode": {
    "name": "ipython",
    "version": 3
   },
   "file_extension": ".py",
   "mimetype": "text/x-python",
   "name": "python",
   "nbconvert_exporter": "python",
   "pygments_lexer": "ipython3",
   "version": "3.7.6"
  }
 },
 "nbformat": 4,
 "nbformat_minor": 4
}
